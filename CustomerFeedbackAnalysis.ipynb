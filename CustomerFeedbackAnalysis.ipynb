{
 "cells": [
  {
   "cell_type": "code",
   "execution_count": 2,
   "metadata": {},
   "outputs": [],
   "source": [
    "# Import Library\n",
    "import pandas as pd"
   ]
  },
  {
   "cell_type": "code",
   "execution_count": 3,
   "metadata": {},
   "outputs": [],
   "source": [
    "# Load the Customer data\n",
    "df = pd.read_csv('C:/DEPI/Customers.csv')"
   ]
  },
  {
   "cell_type": "code",
   "execution_count": 4,
   "metadata": {},
   "outputs": [
    {
     "name": "stdout",
     "output_type": "stream",
     "text": [
      "   customer_id customer_name              email\n",
      "0            1      John Doe   john@example.com\n",
      "1            2    Jane Smith   jane@example.com\n",
      "2            3  Mike Johnson   mike@example.com\n",
      "3            4   Emily Davis  emily@example.com\n",
      "4            5   Chris Brown  chris@example.com\n"
     ]
    }
   ],
   "source": [
    "print(df.head())"
   ]
  },
  {
   "cell_type": "code",
   "execution_count": 5,
   "metadata": {},
   "outputs": [
    {
     "name": "stdout",
     "output_type": "stream",
     "text": [
      "    customer_id    customer_name                       email\n",
      "95           96  Brooklyn Garcia        brooklyn@example.com\n",
      "96           97    Robert Thomas   robert.thomas@example.com\n",
      "97           98    Jessica White   jessica.white@example.com\n",
      "98           99     Chris Harris    chris.harris@example.com\n",
      "99          100   Patricia Lewis  patricia.lewis@example.com\n"
     ]
    }
   ],
   "source": [
    "print(df.tail())"
   ]
  },
  {
   "cell_type": "code",
   "execution_count": 6,
   "metadata": {},
   "outputs": [
    {
     "name": "stdout",
     "output_type": "stream",
     "text": [
      "Index(['customer_id', 'customer_name', 'email'], dtype='object')\n"
     ]
    }
   ],
   "source": [
    "print(df.columns)"
   ]
  },
  {
   "cell_type": "code",
   "execution_count": 7,
   "metadata": {},
   "outputs": [
    {
     "name": "stdout",
     "output_type": "stream",
     "text": [
      "       customer_id\n",
      "count   100.000000\n",
      "mean     50.500000\n",
      "std      29.011492\n",
      "min       1.000000\n",
      "25%      25.750000\n",
      "50%      50.500000\n",
      "75%      75.250000\n",
      "max     100.000000\n"
     ]
    }
   ],
   "source": [
    "# Describe the data to get summary statistics\n",
    "print(df.describe())"
   ]
  },
  {
   "cell_type": "code",
   "execution_count": 8,
   "metadata": {},
   "outputs": [
    {
     "name": "stdout",
     "output_type": "stream",
     "text": [
      "customer_id      0\n",
      "customer_name    0\n",
      "email            0\n",
      "dtype: int64\n"
     ]
    }
   ],
   "source": [
    "# Identify missing values\n",
    "print(df.isnull().sum())"
   ]
  },
  {
   "cell_type": "code",
   "execution_count": 9,
   "metadata": {},
   "outputs": [
    {
     "name": "stdout",
     "output_type": "stream",
     "text": [
      "Row 0: John Doe - john@example.com\n",
      "Row 1: Jane Smith - jane@example.com\n",
      "Row 2: Mike Johnson - mike@example.com\n",
      "Row 3: Emily Davis - emily@example.com\n",
      "Row 4: Chris Brown - chris@example.com\n",
      "Row 5: Sarah Wilson - sarah@example.com\n",
      "Row 6: Daniel Evans - daniel@example.com\n",
      "Row 7: Sophia Moore - sophia@example.com\n",
      "Row 8: Matthew Lee - matthew@example.com\n",
      "Row 9: Olivia Harris - olivia@example.com\n",
      "Row 10: David Clark - david@example.com\n",
      "Row 11: Emma Lewis - emma@example.com\n",
      "Row 12: Liam Walker - liam@example.com\n",
      "Row 13: Ava Robinson - ava@example.com\n",
      "Row 14: James Martinez - james@example.com\n",
      "Row 15: Isabella Hall - isabella@example.com\n",
      "Row 16: Benjamin Allen - benjamin@example.com\n",
      "Row 17: Mia Young - mia@example.com\n",
      "Row 18: Henry King - henry@example.com\n",
      "Row 19: Charlotte Wright - charlotte@example.com\n",
      "Row 20: Alexander Scott - alexander@example.com\n",
      "Row 21: Amelia Adams - amelia@example.com\n",
      "Row 22: Elijah Turner - elijah@example.com\n",
      "Row 23: Evelyn Mitchell - evelyn@example.com\n",
      "Row 24: William Perez - william@example.com\n",
      "Row 25: Abigail Hill - abigail@example.com\n",
      "Row 26: Michael Torres - michael@example.com\n",
      "Row 27: Harper Ramirez - harper@example.com\n",
      "Row 28: Samuel Campbell - samuel@example.com\n",
      "Row 29: Lily Parker - lily@example.com\n",
      "Row 30: Jackson Phillips - jackson@example.com\n",
      "Row 31: Ella Roberts - ella@example.com\n",
      "Row 32: Sebastian Baker - sebastian@example.com\n",
      "Row 33: Grace Carter - grace@example.com\n",
      "Row 34: Aiden Sanders - aiden@example.com\n",
      "Row 35: Scarlett Price - scarlett@example.com\n",
      "Row 36: Lucas Nelson - lucas@example.com\n",
      "Row 37: Victoria Ward - victoria@example.com\n",
      "Row 38: Mason Rivera - mason@example.com\n",
      "Row 39: Zoey Morris - zoey@example.com\n",
      "Row 40: Ethan Jenkins - ethan@example.com\n",
      "Row 41: Penelope Perry - penelope@example.com\n",
      "Row 42: Logan Coleman - logan@example.com\n",
      "Row 43: Aria Peterson - aria@example.com\n",
      "Row 44: Jacob Bailey - jacob@example.com\n",
      "Row 45: Ella Foster - ella@example.com\n",
      "Row 46: Levi Powell - levi@example.com\n",
      "Row 47: Hannah Cooper - hannah@example.com\n",
      "Row 48: Owen Richardson - owen@example.com\n",
      "Row 49: Avery Bell - avery@example.com\n",
      "Row 50: Wyatt Howard - wyatt@example.com\n",
      "Row 51: Chloe Lee - chloe@example.com\n",
      "Row 52: Noah White - noah@example.com\n",
      "Row 53: Layla Hughes - layla@example.com\n",
      "Row 54: Jack Martin - jack@example.com\n",
      "Row 55: Sofia Evans - sofia@example.com\n",
      "Row 56: Caleb Green - caleb@example.com\n",
      "Row 57: Madison Garcia - madison@example.com\n",
      "Row 58: Carter Walker - carter@example.com\n",
      "Row 59: Riley Hall - riley@example.com\n",
      "Row 60: Isaac King - isaac@example.com\n",
      "Row 61: Nora Lewis - nora@example.com\n",
      "Row 62: Gabriel Wright - gabriel@example.com\n",
      "Row 63: Eleanor Robinson - eleanor@example.com\n",
      "Row 64: Julian Turner - julian@example.com\n",
      "Row 65: Lucy Martinez - lucy@example.com\n",
      "Row 66: Leo Campbell - leo@example.com\n",
      "Row 67: Natalie Clark - natalie@example.com\n",
      "Row 68: Dylan Mitchell - dylan@example.com\n",
      "Row 69: Savannah Perez - savannah@example.com\n",
      "Row 70: Ryan Phillips - ryan@example.com\n",
      "Row 71: Zoey Adams - zoey@example.com\n",
      "Row 72: Nathan Torres - nathan@example.com\n",
      "Row 73: Audrey Parker - audrey@example.com\n",
      "Row 74: Luke Baker - luke@example.com\n",
      "Row 75: Stella Carter - stella@example.com\n",
      "Row 76: Thomas Sanders - thomas@example.com\n",
      "Row 77: Riley Morris - riley@example.com\n",
      "Row 78: Aaron Rivera - aaron@example.com\n",
      "Row 79: Hazel Nelson - hazel@example.com\n",
      "Row 80: Jameson Ward - jameson@example.com\n",
      "Row 81: Maya Bailey - maya@example.com\n",
      "Row 82: Ezra Lee - ezra@example.com\n",
      "Row 83: Aurora Powell - aurora@example.com\n",
      "Row 84: Joshua Foster - joshua@example.com\n",
      "Row 85: Addison Coleman - addison@example.com\n",
      "Row 86: Grayson Hughes - grayson@example.com\n",
      "Row 87: Ellie Peterson - ellie@example.com\n",
      "Row 88: Oliver Richardson - oliver@example.com\n",
      "Row 89: Lillian Howard - lillian@example.com\n",
      "Row 90: Colton Bell - colton@example.com\n",
      "Row 91: Bella Martin - bella@example.com\n",
      "Row 92: Isaiah White - isaiah@example.com\n",
      "Row 93: Paisley Evans - paisley@example.com\n",
      "Row 94: Andrew Green - andrew@example.com\n",
      "Row 95: Brooklyn Garcia - brooklyn@example.com\n",
      "Row 96: Robert Thomas - robert.thomas@example.com\n",
      "Row 97: Jessica White - jessica.white@example.com\n",
      "Row 98: Chris Harris - chris.harris@example.com\n",
      "Row 99: Patricia Lewis - patricia.lewis@example.com\n"
     ]
    }
   ],
   "source": [
    "# Iterate over rows and columns\n",
    "for index, row in df.iterrows():\n",
    "    print(f\"Row {index}: {row['customer_name']} - {row['email']}\")"
   ]
  },
  {
   "cell_type": "code",
   "execution_count": 10,
   "metadata": {},
   "outputs": [
    {
     "name": "stdout",
     "output_type": "stream",
     "text": [
      "      customer_name  Count\n",
      "0      Aaron Rivera      1\n",
      "1      Abigail Hill      1\n",
      "2   Addison Coleman      1\n",
      "3     Aiden Sanders      1\n",
      "4   Alexander Scott      1\n",
      "..              ...    ...\n",
      "95    Victoria Ward      1\n",
      "96    William Perez      1\n",
      "97     Wyatt Howard      1\n",
      "98       Zoey Adams      1\n",
      "99      Zoey Morris      1\n",
      "\n",
      "[100 rows x 2 columns]\n"
     ]
    }
   ],
   "source": [
    "# Group data items (example: group by customer name and count)\n",
    "grouped_data = df.groupby('customer_name').size().reset_index(name='Count')\n",
    "print(grouped_data)"
   ]
  },
  {
   "cell_type": "code",
   "execution_count": 11,
   "metadata": {},
   "outputs": [],
   "source": [
    "# Concatenate DataFrames (example: create a new DataFrame with some sample data)\n",
    "new_data = pd.DataFrame({\n",
    "    'customer_id': [101, 102],\n",
    "    'customer_name': ['New Customer 1', 'New Customer 2'],\n",
    "    'email': ['new1@example.com', 'new2@example.com']\n",
    "})"
   ]
  },
  {
   "cell_type": "code",
   "execution_count": 12,
   "metadata": {},
   "outputs": [],
   "source": [
    "# Concatenate the new data with the existing DataFrame\n",
    "df = pd.concat([df, new_data], ignore_index=True)"
   ]
  },
  {
   "cell_type": "code",
   "execution_count": 13,
   "metadata": {},
   "outputs": [
    {
     "name": "stdout",
     "output_type": "stream",
     "text": [
      "     customer_id   customer_name                       email\n",
      "0              1        John Doe            john@example.com\n",
      "1              2      Jane Smith            jane@example.com\n",
      "2              3    Mike Johnson            mike@example.com\n",
      "3              4     Emily Davis           emily@example.com\n",
      "4              5     Chris Brown           chris@example.com\n",
      "..           ...             ...                         ...\n",
      "97            98   Jessica White   jessica.white@example.com\n",
      "98            99    Chris Harris    chris.harris@example.com\n",
      "99           100  Patricia Lewis  patricia.lewis@example.com\n",
      "100          101  New Customer 1            new1@example.com\n",
      "101          102  New Customer 2            new2@example.com\n",
      "\n",
      "[102 rows x 3 columns]\n"
     ]
    }
   ],
   "source": [
    "# Show the final DataFrame\n",
    "print(df)"
   ]
  },
  {
   "cell_type": "code",
   "execution_count": 14,
   "metadata": {},
   "outputs": [
    {
     "name": "stdout",
     "output_type": "stream",
     "text": [
      "\n",
      "Sorted Data by Customer Name:\n",
      "    customer_id    customer_name                  email\n",
      "78           79     Aaron Rivera      aaron@example.com\n",
      "25           26     Abigail Hill    abigail@example.com\n",
      "85           86  Addison Coleman    addison@example.com\n",
      "34           35    Aiden Sanders      aiden@example.com\n",
      "20           21  Alexander Scott  alexander@example.com\n",
      "..          ...              ...                    ...\n",
      "37           38    Victoria Ward   victoria@example.com\n",
      "24           25    William Perez    william@example.com\n",
      "50           51     Wyatt Howard      wyatt@example.com\n",
      "71           72       Zoey Adams       zoey@example.com\n",
      "39           40      Zoey Morris       zoey@example.com\n",
      "\n",
      "[102 rows x 3 columns]\n"
     ]
    }
   ],
   "source": [
    "# Sort the DataFrame by 'Customer Name'\n",
    "sorted_df = df.sort_values(by='customer_name')\n",
    "print(\"\\nSorted Data by Customer Name:\")\n",
    "print(sorted_df)"
   ]
  },
  {
   "cell_type": "code",
   "execution_count": 15,
   "metadata": {},
   "outputs": [
    {
     "name": "stdout",
     "output_type": "stream",
     "text": [
      "\n",
      "Final DataFrame:\n",
      "    customer_id    customer_name                  email\n",
      "78           79     Aaron Rivera      aaron@example.com\n",
      "25           26     Abigail Hill    abigail@example.com\n",
      "85           86  Addison Coleman    addison@example.com\n",
      "34           35    Aiden Sanders      aiden@example.com\n",
      "20           21  Alexander Scott  alexander@example.com\n",
      "..          ...              ...                    ...\n",
      "37           38    Victoria Ward   victoria@example.com\n",
      "24           25    William Perez    william@example.com\n",
      "50           51     Wyatt Howard      wyatt@example.com\n",
      "71           72       Zoey Adams       zoey@example.com\n",
      "39           40      Zoey Morris       zoey@example.com\n",
      "\n",
      "[102 rows x 3 columns]\n"
     ]
    }
   ],
   "source": [
    "# Show the final DataFrame\n",
    "print(\"\\nFinal DataFrame:\")\n",
    "print(sorted_df)"
   ]
  },
  {
   "cell_type": "code",
   "execution_count": 18,
   "metadata": {},
   "outputs": [],
   "source": [
    "# Load the FeedbackCategories data\n",
    "df = pd.read_csv('C:/DEPI/FeedbackCategories.csv')"
   ]
  },
  {
   "cell_type": "code",
   "execution_count": 19,
   "metadata": {},
   "outputs": [
    {
     "data": {
      "text/html": [
       "<div>\n",
       "<style scoped>\n",
       "    .dataframe tbody tr th:only-of-type {\n",
       "        vertical-align: middle;\n",
       "    }\n",
       "\n",
       "    .dataframe tbody tr th {\n",
       "        vertical-align: top;\n",
       "    }\n",
       "\n",
       "    .dataframe thead th {\n",
       "        text-align: right;\n",
       "    }\n",
       "</style>\n",
       "<table border=\"1\" class=\"dataframe\">\n",
       "  <thead>\n",
       "    <tr style=\"text-align: right;\">\n",
       "      <th></th>\n",
       "      <th>category_id</th>\n",
       "      <th>category_name</th>\n",
       "    </tr>\n",
       "  </thead>\n",
       "  <tbody>\n",
       "    <tr>\n",
       "      <th>0</th>\n",
       "      <td>1</td>\n",
       "      <td>Product Quality</td>\n",
       "    </tr>\n",
       "    <tr>\n",
       "      <th>1</th>\n",
       "      <td>2</td>\n",
       "      <td>Service Quality</td>\n",
       "    </tr>\n",
       "    <tr>\n",
       "      <th>2</th>\n",
       "      <td>3</td>\n",
       "      <td>Delivery</td>\n",
       "    </tr>\n",
       "    <tr>\n",
       "      <th>3</th>\n",
       "      <td>4</td>\n",
       "      <td>Website Experience</td>\n",
       "    </tr>\n",
       "    <tr>\n",
       "      <th>4</th>\n",
       "      <td>5</td>\n",
       "      <td>Customer Support</td>\n",
       "    </tr>\n",
       "  </tbody>\n",
       "</table>\n",
       "</div>"
      ],
      "text/plain": [
       "   category_id       category_name\n",
       "0            1     Product Quality\n",
       "1            2     Service Quality\n",
       "2            3            Delivery\n",
       "3            4  Website Experience\n",
       "4            5    Customer Support"
      ]
     },
     "execution_count": 19,
     "metadata": {},
     "output_type": "execute_result"
    }
   ],
   "source": [
    "df.head()"
   ]
  },
  {
   "cell_type": "code",
   "execution_count": 25,
   "metadata": {},
   "outputs": [
    {
     "name": "stdout",
     "output_type": "stream",
     "text": [
      "    category_id          category_name\n",
      "95           96      Employee Training\n",
      "96           97          Return Labels\n",
      "97           98  Warranty Registration\n",
      "98           99         Product Recall\n",
      "99          100          Brand Loyalty\n"
     ]
    }
   ],
   "source": [
    "print(df.tail())"
   ]
  },
  {
   "cell_type": "code",
   "execution_count": 26,
   "metadata": {},
   "outputs": [
    {
     "name": "stdout",
     "output_type": "stream",
     "text": [
      "Index(['category_id', 'category_name'], dtype='object')\n"
     ]
    }
   ],
   "source": [
    "print(df.columns)"
   ]
  },
  {
   "cell_type": "code",
   "execution_count": 20,
   "metadata": {},
   "outputs": [
    {
     "data": {
      "text/html": [
       "<div>\n",
       "<style scoped>\n",
       "    .dataframe tbody tr th:only-of-type {\n",
       "        vertical-align: middle;\n",
       "    }\n",
       "\n",
       "    .dataframe tbody tr th {\n",
       "        vertical-align: top;\n",
       "    }\n",
       "\n",
       "    .dataframe thead th {\n",
       "        text-align: right;\n",
       "    }\n",
       "</style>\n",
       "<table border=\"1\" class=\"dataframe\">\n",
       "  <thead>\n",
       "    <tr style=\"text-align: right;\">\n",
       "      <th></th>\n",
       "      <th>category_id</th>\n",
       "    </tr>\n",
       "  </thead>\n",
       "  <tbody>\n",
       "    <tr>\n",
       "      <th>count</th>\n",
       "      <td>100.000000</td>\n",
       "    </tr>\n",
       "    <tr>\n",
       "      <th>mean</th>\n",
       "      <td>50.500000</td>\n",
       "    </tr>\n",
       "    <tr>\n",
       "      <th>std</th>\n",
       "      <td>29.011492</td>\n",
       "    </tr>\n",
       "    <tr>\n",
       "      <th>min</th>\n",
       "      <td>1.000000</td>\n",
       "    </tr>\n",
       "    <tr>\n",
       "      <th>25%</th>\n",
       "      <td>25.750000</td>\n",
       "    </tr>\n",
       "    <tr>\n",
       "      <th>50%</th>\n",
       "      <td>50.500000</td>\n",
       "    </tr>\n",
       "    <tr>\n",
       "      <th>75%</th>\n",
       "      <td>75.250000</td>\n",
       "    </tr>\n",
       "    <tr>\n",
       "      <th>max</th>\n",
       "      <td>100.000000</td>\n",
       "    </tr>\n",
       "  </tbody>\n",
       "</table>\n",
       "</div>"
      ],
      "text/plain": [
       "       category_id\n",
       "count   100.000000\n",
       "mean     50.500000\n",
       "std      29.011492\n",
       "min       1.000000\n",
       "25%      25.750000\n",
       "50%      50.500000\n",
       "75%      75.250000\n",
       "max     100.000000"
      ]
     },
     "execution_count": 20,
     "metadata": {},
     "output_type": "execute_result"
    }
   ],
   "source": [
    "df.describe()"
   ]
  },
  {
   "cell_type": "code",
   "execution_count": 27,
   "metadata": {},
   "outputs": [
    {
     "name": "stdout",
     "output_type": "stream",
     "text": [
      "category_id      0\n",
      "category_name    0\n",
      "dtype: int64\n"
     ]
    }
   ],
   "source": [
    "# Identify missing values\n",
    "print(df.isnull().sum())"
   ]
  },
  {
   "cell_type": "code",
   "execution_count": 28,
   "metadata": {},
   "outputs": [
    {
     "name": "stdout",
     "output_type": "stream",
     "text": [
      "Row 0: 1 - Product Quality\n",
      "Row 1: 2 - Service Quality\n",
      "Row 2: 3 - Delivery\n",
      "Row 3: 4 - Website Experience\n",
      "Row 4: 5 - Customer Support\n",
      "Row 5: 6 - Technical Support\n",
      "Row 6: 7 - Billing Issues\n",
      "Row 7: 8 - Return and Refund Process\n",
      "Row 8: 9 - Shipping Experience\n",
      "Row 9: 10 - Mobile App Usability\n",
      "Row 10: 11 - Account Management\n",
      "Row 11: 12 - Product Availability\n",
      "Row 12: 13 - Pricing and Discounts\n",
      "Row 13: 14 - Product Features\n",
      "Row 14: 15 - Product Packaging\n",
      "Row 15: 16 - Order Tracking\n",
      "Row 16: 17 - Loyalty Program\n",
      "Row 17: 18 - Payment Methods\n",
      "Row 18: 19 - Checkout Process\n",
      "Row 19: 20 - Social Media Interaction\n",
      "Row 20: 21 - Email Support\n",
      "Row 21: 22 - Phone Support\n",
      "Row 22: 23 - Live Chat Support\n",
      "Row 23: 24 - In-Store Experience\n",
      "Row 24: 25 - Online Store Navigation\n",
      "Row 25: 26 - Warranty and Repairs\n",
      "Row 26: 27 - Security and Privacy\n",
      "Row 27: 28 - Product Recommendations\n",
      "Row 28: 29 - Installation Assistance\n",
      "Row 29: 30 - Order Confirmation Process\n",
      "Row 30: 31 - Subscription Services\n",
      "Row 31: 32 - Gift Cards and Vouchers\n",
      "Row 32: 33 - Product Reviews\n",
      "Row 33: 34 - Technical Documentation\n",
      "Row 34: 35 - User Manuals\n",
      "Row 35: 36 - Complaint Handling\n",
      "Row 36: 37 - Customer Surveys\n",
      "Row 37: 38 - Brand Perception\n",
      "Row 38: 39 - Marketing Emails\n",
      "Row 39: 40 - Advertising Campaigns\n",
      "Row 40: 41 - Corporate Social Responsibility\n",
      "Row 41: 42 - Environmental Impact\n",
      "Row 42: 43 - Community Involvement\n",
      "Row 43: 44 - Employee Friendliness\n",
      "Row 44: 45 - Store Cleanliness\n",
      "Row 45: 46 - Queue Management\n",
      "Row 46: 47 - Accessibility Features\n",
      "Row 47: 48 - Return Policy\n",
      "Row 48: 49 - After-Sales Service\n",
      "Row 49: 50 - Promotional Offers\n",
      "Row 50: 51 - Referral Program\n",
      "Row 51: 52 - Appointment Scheduling\n",
      "Row 52: 53 - Product Customization\n",
      "Row 53: 54 - Size and Fit\n",
      "Row 54: 55 - Product Range\n",
      "Row 55: 56 - Store Ambiance\n",
      "Row 56: 57 - Product Durability\n",
      "Row 57: 58 - Online Payment Security\n",
      "Row 58: 59 - Store Location Convenience\n",
      "Row 59: 60 - Gift Wrapping\n",
      "Row 60: 61 - Event Hosting\n",
      "Row 61: 62 - Store Hours\n",
      "Row 62: 63 - Inventory Management\n",
      "Row 63: 64 - Stock Updates\n",
      "Row 64: 65 - Online Chatbot\n",
      "Row 65: 66 - Customer Testimonials\n",
      "Row 66: 67 - Order Confirmation Speed\n",
      "Row 67: 68 - Loyalty Rewards Redemption\n",
      "Row 68: 69 - Promotional Events\n",
      "Row 69: 70 - Holiday Sales\n",
      "Row 70: 71 - Corporate Communication\n",
      "Row 71: 72 - Online FAQ\n",
      "Row 72: 73 - Installation Guides\n",
      "Row 73: 74 - Product Setup\n",
      "Row 74: 75 - Newsletter Quality\n",
      "Row 75: 76 - Free Trials\n",
      "Row 76: 77 - Demo Availability\n",
      "Row 77: 78 - Product Testing\n",
      "Row 78: 79 - Exclusive Member Discounts\n",
      "Row 79: 80 - Online Return Process\n",
      "Row 80: 81 - Store Return Process\n",
      "Row 81: 82 - Technical Problem Resolution\n",
      "Row 82: 83 - International Shipping\n",
      "Row 83: 84 - Shipping Costs\n",
      "Row 84: 85 - Delivery Time\n",
      "Row 85: 86 - Order Status Updates\n",
      "Row 86: 87 - Customer Service Knowledge\n",
      "Row 87: 88 - Sales Staff Assistance\n",
      "Row 88: 89 - Product Training\n",
      "Row 89: 90 - Assembly Instructions\n",
      "Row 90: 91 - Home Delivery Service\n",
      "Row 91: 92 - Contact Us Form\n",
      "Row 92: 93 - Feedback Collection\n",
      "Row 93: 94 - Suggestion Box\n",
      "Row 94: 95 - Free Samples\n",
      "Row 95: 96 - Employee Training\n",
      "Row 96: 97 - Return Labels\n",
      "Row 97: 98 - Warranty Registration\n",
      "Row 98: 99 - Product Recall\n",
      "Row 99: 100 - Brand Loyalty\n"
     ]
    }
   ],
   "source": [
    "# Iterate over rows and columns\n",
    "for index, row in df.iterrows():\n",
    "    print(f\"Row {index}: {row['category_id']} - {row['category_name']}\")"
   ]
  },
  {
   "cell_type": "code",
   "execution_count": 23,
   "metadata": {},
   "outputs": [
    {
     "name": "stdout",
     "output_type": "stream",
     "text": [
      "\n",
      "Mean sentiment score by category:\n",
      "                        category_id\n",
      "category_name                      \n",
      "Accessibility Features         47.0\n",
      "Account Management             11.0\n",
      "Advertising Campaigns          40.0\n",
      "After-Sales Service            49.0\n",
      "Appointment Scheduling         52.0\n",
      "...                             ...\n",
      "Technical Support               6.0\n",
      "User Manuals                   35.0\n",
      "Warranty Registration          98.0\n",
      "Warranty and Repairs           26.0\n",
      "Website Experience              4.0\n",
      "\n",
      "[100 rows x 1 columns]\n"
     ]
    }
   ],
   "source": [
    "# Group by category name and get the mean sentiment\n",
    "print(\"\\nMean sentiment score by category:\")\n",
    "grouped_data = df.groupby('category_name').mean()\n",
    "print(grouped_data)"
   ]
  },
  {
   "cell_type": "code",
   "execution_count": 24,
   "metadata": {},
   "outputs": [
    {
     "name": "stdout",
     "output_type": "stream",
     "text": [
      "\n",
      "Count of feedbacks per category:\n",
      "                        category_id\n",
      "category_name                      \n",
      "Accessibility Features            1\n",
      "Account Management                1\n",
      "Advertising Campaigns             1\n",
      "After-Sales Service               1\n",
      "Appointment Scheduling            1\n",
      "...                             ...\n",
      "Technical Support                 1\n",
      "User Manuals                      1\n",
      "Warranty Registration             1\n",
      "Warranty and Repairs              1\n",
      "Website Experience                1\n",
      "\n",
      "[100 rows x 1 columns]\n"
     ]
    }
   ],
   "source": [
    "# Count the number of feedbacks per category\n",
    "print(\"\\nCount of feedbacks per category:\")\n",
    "feedback_count = df.groupby('category_name').count()\n",
    "print(feedback_count)"
   ]
  },
  {
   "cell_type": "code",
   "execution_count": 29,
   "metadata": {},
   "outputs": [
    {
     "name": "stdout",
     "output_type": "stream",
     "text": [
      "\n",
      "Sorted Data by Category Name:\n",
      "    category_id           category_name\n",
      "46           47  Accessibility Features\n",
      "10           11      Account Management\n",
      "39           40   Advertising Campaigns\n",
      "48           49     After-Sales Service\n",
      "51           52  Appointment Scheduling\n",
      "..          ...                     ...\n",
      "5             6       Technical Support\n",
      "34           35            User Manuals\n",
      "97           98   Warranty Registration\n",
      "25           26    Warranty and Repairs\n",
      "3             4      Website Experience\n",
      "\n",
      "[100 rows x 2 columns]\n"
     ]
    }
   ],
   "source": [
    "# Sort the DataFrame by 'Customer Name'\n",
    "sorted_df = df.sort_values(by='category_name')\n",
    "print(\"\\nSorted Data by Category Name:\")\n",
    "print(sorted_df)"
   ]
  },
  {
   "cell_type": "code",
   "execution_count": 30,
   "metadata": {},
   "outputs": [],
   "source": [
    "# Load the FeedbackForms data\n",
    "df = pd.read_csv('C:/DEPI/FeedbackForms.csv')"
   ]
  },
  {
   "cell_type": "code",
   "execution_count": 31,
   "metadata": {},
   "outputs": [
    {
     "data": {
      "text/html": [
       "<div>\n",
       "<style scoped>\n",
       "    .dataframe tbody tr th:only-of-type {\n",
       "        vertical-align: middle;\n",
       "    }\n",
       "\n",
       "    .dataframe tbody tr th {\n",
       "        vertical-align: top;\n",
       "    }\n",
       "\n",
       "    .dataframe thead th {\n",
       "        text-align: right;\n",
       "    }\n",
       "</style>\n",
       "<table border=\"1\" class=\"dataframe\">\n",
       "  <thead>\n",
       "    <tr style=\"text-align: right;\">\n",
       "      <th></th>\n",
       "      <th>feedback_id</th>\n",
       "      <th>customer_id</th>\n",
       "      <th>category_id</th>\n",
       "      <th>feedback_date</th>\n",
       "      <th>feedback_description</th>\n",
       "      <th>sentiment</th>\n",
       "      <th>source</th>\n",
       "      <th>rating</th>\n",
       "      <th>response_status</th>\n",
       "      <th>improvement_suggested</th>\n",
       "      <th>Unnamed: 10</th>\n",
       "    </tr>\n",
       "  </thead>\n",
       "  <tbody>\n",
       "    <tr>\n",
       "      <th>0</th>\n",
       "      <td>1</td>\n",
       "      <td>1</td>\n",
       "      <td>1</td>\n",
       "      <td>00:00.0</td>\n",
       "      <td>I love this product!</td>\n",
       "      <td>Positive</td>\n",
       "      <td>Twitter</td>\n",
       "      <td>5</td>\n",
       "      <td>Responded</td>\n",
       "      <td>NaN</td>\n",
       "      <td>NaN</td>\n",
       "    </tr>\n",
       "    <tr>\n",
       "      <th>1</th>\n",
       "      <td>2</td>\n",
       "      <td>2</td>\n",
       "      <td>2</td>\n",
       "      <td>00:00.0</td>\n",
       "      <td>I had a terrible experience with their service.</td>\n",
       "      <td>Negative</td>\n",
       "      <td>Yelp</td>\n",
       "      <td>2</td>\n",
       "      <td>Responded</td>\n",
       "      <td>Improve service</td>\n",
       "      <td>NaN</td>\n",
       "    </tr>\n",
       "    <tr>\n",
       "      <th>2</th>\n",
       "      <td>3</td>\n",
       "      <td>3</td>\n",
       "      <td>3</td>\n",
       "      <td>00:00.0</td>\n",
       "      <td>This product exceeded my expectations!</td>\n",
       "      <td>Positive</td>\n",
       "      <td>Amazon</td>\n",
       "      <td>5</td>\n",
       "      <td>Not Responded</td>\n",
       "      <td>NaN</td>\n",
       "      <td>NaN</td>\n",
       "    </tr>\n",
       "    <tr>\n",
       "      <th>3</th>\n",
       "      <td>4</td>\n",
       "      <td>4</td>\n",
       "      <td>4</td>\n",
       "      <td>04/09/2024 00:00</td>\n",
       "      <td>I am very disappointed with the quality of thi...</td>\n",
       "      <td>Negative</td>\n",
       "      <td>Online Store</td>\n",
       "      <td>1</td>\n",
       "      <td>Responded</td>\n",
       "      <td>Quality check</td>\n",
       "      <td>NaN</td>\n",
       "    </tr>\n",
       "    <tr>\n",
       "      <th>4</th>\n",
       "      <td>5</td>\n",
       "      <td>5</td>\n",
       "      <td>5</td>\n",
       "      <td>00:00.0</td>\n",
       "      <td>Amazing experience! Would definitely recommend!</td>\n",
       "      <td>Positive</td>\n",
       "      <td>TripAdvisor</td>\n",
       "      <td>5</td>\n",
       "      <td>Not Responded</td>\n",
       "      <td>NaN</td>\n",
       "      <td>NaN</td>\n",
       "    </tr>\n",
       "  </tbody>\n",
       "</table>\n",
       "</div>"
      ],
      "text/plain": [
       "   feedback_id  customer_id  category_id     feedback_date  \\\n",
       "0            1            1            1           00:00.0   \n",
       "1            2            2            2           00:00.0   \n",
       "2            3            3            3           00:00.0   \n",
       "3            4            4            4  04/09/2024 00:00   \n",
       "4            5            5            5           00:00.0   \n",
       "\n",
       "                                feedback_description sentiment        source  \\\n",
       "0                               I love this product!  Positive       Twitter   \n",
       "1    I had a terrible experience with their service.  Negative          Yelp   \n",
       "2             This product exceeded my expectations!  Positive        Amazon   \n",
       "3  I am very disappointed with the quality of thi...  Negative  Online Store   \n",
       "4    Amazing experience! Would definitely recommend!  Positive   TripAdvisor   \n",
       "\n",
       "  rating response_status improvement_suggested Unnamed: 10  \n",
       "0      5       Responded                   NaN         NaN  \n",
       "1      2       Responded       Improve service         NaN  \n",
       "2      5   Not Responded                   NaN         NaN  \n",
       "3      1       Responded         Quality check         NaN  \n",
       "4      5   Not Responded                   NaN         NaN  "
      ]
     },
     "execution_count": 31,
     "metadata": {},
     "output_type": "execute_result"
    }
   ],
   "source": [
    "df.head()"
   ]
  },
  {
   "cell_type": "code",
   "execution_count": 35,
   "metadata": {},
   "outputs": [
    {
     "data": {
      "text/html": [
       "<div>\n",
       "<style scoped>\n",
       "    .dataframe tbody tr th:only-of-type {\n",
       "        vertical-align: middle;\n",
       "    }\n",
       "\n",
       "    .dataframe tbody tr th {\n",
       "        vertical-align: top;\n",
       "    }\n",
       "\n",
       "    .dataframe thead th {\n",
       "        text-align: right;\n",
       "    }\n",
       "</style>\n",
       "<table border=\"1\" class=\"dataframe\">\n",
       "  <thead>\n",
       "    <tr style=\"text-align: right;\">\n",
       "      <th></th>\n",
       "      <th>feedback_id</th>\n",
       "      <th>customer_id</th>\n",
       "      <th>category_id</th>\n",
       "    </tr>\n",
       "  </thead>\n",
       "  <tbody>\n",
       "    <tr>\n",
       "      <th>count</th>\n",
       "      <td>100.000000</td>\n",
       "      <td>100.000000</td>\n",
       "      <td>100.000000</td>\n",
       "    </tr>\n",
       "    <tr>\n",
       "      <th>mean</th>\n",
       "      <td>50.500000</td>\n",
       "      <td>50.500000</td>\n",
       "      <td>50.500000</td>\n",
       "    </tr>\n",
       "    <tr>\n",
       "      <th>std</th>\n",
       "      <td>29.011492</td>\n",
       "      <td>29.011492</td>\n",
       "      <td>29.011492</td>\n",
       "    </tr>\n",
       "    <tr>\n",
       "      <th>min</th>\n",
       "      <td>1.000000</td>\n",
       "      <td>1.000000</td>\n",
       "      <td>1.000000</td>\n",
       "    </tr>\n",
       "    <tr>\n",
       "      <th>25%</th>\n",
       "      <td>25.750000</td>\n",
       "      <td>25.750000</td>\n",
       "      <td>25.750000</td>\n",
       "    </tr>\n",
       "    <tr>\n",
       "      <th>50%</th>\n",
       "      <td>50.500000</td>\n",
       "      <td>50.500000</td>\n",
       "      <td>50.500000</td>\n",
       "    </tr>\n",
       "    <tr>\n",
       "      <th>75%</th>\n",
       "      <td>75.250000</td>\n",
       "      <td>75.250000</td>\n",
       "      <td>75.250000</td>\n",
       "    </tr>\n",
       "    <tr>\n",
       "      <th>max</th>\n",
       "      <td>100.000000</td>\n",
       "      <td>100.000000</td>\n",
       "      <td>100.000000</td>\n",
       "    </tr>\n",
       "  </tbody>\n",
       "</table>\n",
       "</div>"
      ],
      "text/plain": [
       "       feedback_id  customer_id  category_id\n",
       "count   100.000000   100.000000   100.000000\n",
       "mean     50.500000    50.500000    50.500000\n",
       "std      29.011492    29.011492    29.011492\n",
       "min       1.000000     1.000000     1.000000\n",
       "25%      25.750000    25.750000    25.750000\n",
       "50%      50.500000    50.500000    50.500000\n",
       "75%      75.250000    75.250000    75.250000\n",
       "max     100.000000   100.000000   100.000000"
      ]
     },
     "execution_count": 35,
     "metadata": {},
     "output_type": "execute_result"
    }
   ],
   "source": [
    "df.describe()"
   ]
  },
  {
   "cell_type": "code",
   "execution_count": 59,
   "metadata": {},
   "outputs": [],
   "source": [
    "df['rating'] = pd.to_numeric(df['rating'], errors='coerce')"
   ]
  },
  {
   "cell_type": "code",
   "execution_count": 63,
   "metadata": {},
   "outputs": [
    {
     "name": "stdout",
     "output_type": "stream",
     "text": [
      "\n",
      "Mean rating by sentiment:\n",
      "sentiment\n",
      " not worth the price.               NaN\n",
      " the product does not work.         NaN\n",
      " the staff was rude.                NaN\n",
      " will not return.                   NaN\n",
      "Negative                       1.444444\n",
      "Neutral                        3.000000\n",
      "Positive                       4.880000\n",
      "Name: rating, dtype: float64\n"
     ]
    }
   ],
   "source": [
    "# Group by sentiment and get the mean rating\n",
    "print(\"\\nMean rating by sentiment:\")\n",
    "grouped_data = df.groupby('sentiment')['rating'].mean()\n",
    "print(grouped_data)"
   ]
  },
  {
   "cell_type": "code",
   "execution_count": 44,
   "metadata": {},
   "outputs": [
    {
     "name": "stdout",
     "output_type": "stream",
     "text": [
      "\n",
      "Count of feedbacks by sentiment:\n",
      "sentiment\n",
      " not worth the price.           1\n",
      " the product does not work.     1\n",
      " the staff was rude.            1\n",
      " will not return.               1\n",
      "Negative                       45\n",
      "Neutral                         1\n",
      "Positive                       50\n",
      "Name: feedback_description, dtype: int64\n"
     ]
    }
   ],
   "source": [
    "# Count the number of feedbacks per sentiment\n",
    "print(\"\\nCount of feedbacks by sentiment:\")\n",
    "feedback_count = df.groupby('sentiment')['feedback_description'].count()\n",
    "print(feedback_count)"
   ]
  },
  {
   "cell_type": "code",
   "execution_count": 46,
   "metadata": {},
   "outputs": [
    {
     "name": "stdout",
     "output_type": "stream",
     "text": [
      "\n",
      "Data sorted by rating (descending):\n",
      "    feedback_id  customer_id  category_id feedback_date  \\\n",
      "74           75           75           75       00:00.0   \n",
      "54           55           55           55       00:00.0   \n",
      "70           71           71           71       00:00.0   \n",
      "88           89           89           89       00:00.0   \n",
      "41           42           42           42       00:00.0   \n",
      "..          ...          ...          ...           ...   \n",
      "60           61           61           61       00:00.0   \n",
      "72           73           73           73       00:00.0   \n",
      "22           23           23           23       00:00.0   \n",
      "18           19           19           19       00:00.0   \n",
      "34           35           35           35       00:00.0   \n",
      "\n",
      "                                 feedback_description  \\\n",
      "74                                  Very poor quality   \n",
      "54                                   Awful experience   \n",
      "70                                Horrible experience   \n",
      "88                                      Disappointing   \n",
      "41                      Absolutely love this product!   \n",
      "..                                                ...   \n",
      "60        The customer service line was busy all day.   \n",
      "72                         Terrible customer support!   \n",
      "22                     The movie was a waste of time.   \n",
      "18                The quality of this item is subpar.   \n",
      "34  I am not impressed with the quality of this item.   \n",
      "\n",
      "                      sentiment        source        rating response_status  \\\n",
      "74         not worth the price.      Negative        Zomato               1   \n",
      "54          the staff was rude.      Negative          Yelp               1   \n",
      "70             will not return.      Negative  Online Forum               1   \n",
      "88   the product does not work.      Negative        Amazon               1   \n",
      "41                     Positive        Amazon             5   Not Responded   \n",
      "..                          ...           ...           ...             ...   \n",
      "60                     Negative  Online Forum             1       Responded   \n",
      "72                     Negative          Yelp             1       Responded   \n",
      "22                     Negative          IMDb             1       Responded   \n",
      "18                     Negative        Amazon             1       Responded   \n",
      "34                     Negative  Online Store             1       Responded   \n",
      "\n",
      "   improvement_suggested       Unnamed: 10  \n",
      "74             Responded   Improve quality  \n",
      "54             Responded  Improve training  \n",
      "70             Responded   Improve service  \n",
      "88             Responded     Quality check  \n",
      "41                   NaN               NaN  \n",
      "..                   ...               ...  \n",
      "60     Increase staffing               NaN  \n",
      "72       Improve support               NaN  \n",
      "22    Improve production               NaN  \n",
      "18       Improve quality               NaN  \n",
      "34       Improve quality               NaN  \n",
      "\n",
      "[100 rows x 11 columns]\n"
     ]
    }
   ],
   "source": [
    "# Sorting by rating (descending)\n",
    "print(\"\\nData sorted by rating (descending):\")\n",
    "sorted_data = df.sort_values(by='rating', ascending=False)\n",
    "print(sorted_data)"
   ]
  },
  {
   "cell_type": "code",
   "execution_count": 48,
   "metadata": {},
   "outputs": [
    {
     "name": "stdout",
     "output_type": "stream",
     "text": [
      "\n",
      "Feedback with positive sentiment:\n",
      "    feedback_id  customer_id  category_id feedback_date  \\\n",
      "0             1            1            1       00:00.0   \n",
      "2             3            3            3       00:00.0   \n",
      "4             5            5            5       00:00.0   \n",
      "6             7            7            7       00:00.0   \n",
      "9            10           10           10       00:00.0   \n",
      "11           12           12           12       00:00.0   \n",
      "13           14           14           14       00:00.0   \n",
      "15           16           16           16       00:00.0   \n",
      "17           18           18           18       00:00.0   \n",
      "19           20           20           20       00:00.0   \n",
      "21           22           22           22       00:00.0   \n",
      "23           24           24           24       00:00.0   \n",
      "25           26           26           26       00:00.0   \n",
      "27           28           28           28       00:00.0   \n",
      "29           30           30           30       00:00.0   \n",
      "31           32           32           32       00:00.0   \n",
      "33           34           34           34       00:00.0   \n",
      "35           36           36           36       00:00.0   \n",
      "37           38           38           38       00:00.0   \n",
      "39           40           40           40       00:00.0   \n",
      "41           42           42           42       00:00.0   \n",
      "43           44           44           44       00:00.0   \n",
      "45           46           46           46       00:00.0   \n",
      "47           48           48           48       00:00.0   \n",
      "49           50           50           50       00:00.0   \n",
      "51           52           52           52       00:00.0   \n",
      "53           54           54           54       00:00.0   \n",
      "55           56           56           56       00:00.0   \n",
      "57           58           58           58       00:00.0   \n",
      "59           60           60           60       00:00.0   \n",
      "61           62           62           62       00:00.0   \n",
      "63           64           64           64       00:00.0   \n",
      "65           66           66           66       00:00.0   \n",
      "67           68           68           68       00:00.0   \n",
      "69           70           70           70       00:00.0   \n",
      "71           72           72           72       00:00.0   \n",
      "73           74           74           74       00:00.0   \n",
      "75           76           76           76       00:00.0   \n",
      "77           78           78           78       00:00.0   \n",
      "79           80           80           80       00:00.0   \n",
      "81           82           82           82       00:00.0   \n",
      "83           84           84           84       00:00.0   \n",
      "85           86           86           86       00:00.0   \n",
      "87           88           88           88       00:00.0   \n",
      "89           90           90           90       00:00.0   \n",
      "91           92           92           92       00:00.0   \n",
      "93           94           94           94       00:00.0   \n",
      "95           96           96           96       00:00.0   \n",
      "97           98           98           98       00:00.0   \n",
      "99          100          100          100       00:00.0   \n",
      "\n",
      "                               feedback_description sentiment          source  \\\n",
      "0                              I love this product!  Positive         Twitter   \n",
      "2            This product exceeded my expectations!  Positive          Amazon   \n",
      "4   Amazing experience! Would definitely recommend!  Positive     TripAdvisor   \n",
      "6                              Absolutely loved it!  Positive       Instagram   \n",
      "9                    Highly recommend this service!  Positive            Yelp   \n",
      "11           Customer service was quick to respond.  Positive        Facebook   \n",
      "13              This restaurant is my new favorite!  Positive     TripAdvisor   \n",
      "15           I had a fantastic time at the concert!  Positive    Event Review   \n",
      "17              The staff was friendly and helpful.  Positive     TripAdvisor   \n",
      "19                     Just had the best meal ever!  Positive       Instagram   \n",
      "21                                I love this song!  Positive         Spotify   \n",
      "23               Best shopping experience I’ve had!  Positive        Facebook   \n",
      "25          I cannot get enough of this restaurant!  Positive     TripAdvisor   \n",
      "27                         Amazing value for money!  Positive  Google Reviews   \n",
      "29                   This app is incredibly useful!  Positive       App Store   \n",
      "31            I had a great time at the theme park!  Positive    Event Review   \n",
      "33        This product works exactly as advertised!  Positive          Amazon   \n",
      "35                     This is my go-to restaurant!  Positive            Yelp   \n",
      "37             This website is so easy to navigate!  Positive  Google Reviews   \n",
      "39        The delivery was prompt and professional.  Positive    Online Store   \n",
      "41                    Absolutely love this product!  Positive          Amazon   \n",
      "43     This app has changed my life for the better!  Positive       App Store   \n",
      "45               Fantastic product! Will buy again!  Positive          Amazon   \n",
      "47                Quick delivery and great quality!  Positive    Online Store   \n",
      "49          I had a great experience at this hotel!  Positive     TripAdvisor   \n",
      "51             Great atmosphere and friendly staff!  Positive  Google Reviews   \n",
      "53                     This gadget works perfectly!  Positive          Amazon   \n",
      "55             Loved the presentation and the food!  Positive        Facebook   \n",
      "57                   I highly recommend this place!  Positive     TripAdvisor   \n",
      "59                    Such a great value for money!  Positive            Yelp   \n",
      "61                Best product I’ve ever purchased!  Positive          Amazon   \n",
      "63           Everything was perfect during my stay!  Positive     TripAdvisor   \n",
      "65                 Quick and easy checkout process.  Positive    Online Store   \n",
      "67             Friendly service and delicious food!  Positive        Facebook   \n",
      "69          One of the best concerts I’ve attended!  Positive    Event Review   \n",
      "71              This is my new favorite restaurant!  Positive  Google Reviews   \n",
      "73            The product exceeded my expectations!  Positive          Amazon   \n",
      "75                      Excellent customer service!  Positive        Facebook   \n",
      "77                       Highly professional staff!  Positive  Google Reviews   \n",
      "79                         I enjoyed my experience!  Positive     TripAdvisor   \n",
      "81          I will definitely recommend this place!  Positive            Yelp   \n",
      "83                     Perfect for a family outing!  Positive  Google Reviews   \n",
      "85                         Amazing value for money!  Positive          Amazon   \n",
      "87            Fantastic service and quick delivery!  Positive        Facebook   \n",
      "89                    I had a wonderful experience!  Positive     TripAdvisor   \n",
      "91                    Highly recommend the service!  Positive            Yelp   \n",
      "93                              Loved the ambiance!  Positive        Facebook   \n",
      "95                   Excellent quality and service!  Positive          Zomato   \n",
      "97                         Best purchase I’ve made!  Positive    Online Store   \n",
      "99                       I would come back anytime!  Positive  Google Reviews   \n",
      "\n",
      "   rating response_status improvement_suggested Unnamed: 10  \n",
      "0       5       Responded                   NaN         NaN  \n",
      "2       5   Not Responded                   NaN         NaN  \n",
      "4       5   Not Responded                   NaN         NaN  \n",
      "6       5   Not Responded                   NaN         NaN  \n",
      "9       5       Responded                   NaN         NaN  \n",
      "11      4   Not Responded                   NaN         NaN  \n",
      "13      5   Not Responded                   NaN         NaN  \n",
      "15      5   Not Responded                   NaN         NaN  \n",
      "17      4   Not Responded                   NaN         NaN  \n",
      "19      5   Not Responded                   NaN         NaN  \n",
      "21      5   Not Responded                   NaN         NaN  \n",
      "23      5   Not Responded                   NaN         NaN  \n",
      "25      5   Not Responded                   NaN         NaN  \n",
      "27      5   Not Responded                   NaN         NaN  \n",
      "29      5   Not Responded                   NaN         NaN  \n",
      "31      5   Not Responded                   NaN         NaN  \n",
      "33      5   Not Responded                   NaN         NaN  \n",
      "35      5   Not Responded                   NaN         NaN  \n",
      "37      5   Not Responded                   NaN         NaN  \n",
      "39      5   Not Responded                   NaN         NaN  \n",
      "41      5   Not Responded                   NaN         NaN  \n",
      "43      5   Not Responded                   NaN         NaN  \n",
      "45      5   Not Responded                   NaN         NaN  \n",
      "47      4   Not Responded                   NaN         NaN  \n",
      "49      5   Not Responded                   NaN         NaN  \n",
      "51      4   Not Responded                   NaN         NaN  \n",
      "53      5   Not Responded                   NaN         NaN  \n",
      "55      5   Not Responded                   NaN         NaN  \n",
      "57      5   Not Responded                   NaN         NaN  \n",
      "59      4   Not Responded                   NaN         NaN  \n",
      "61      5   Not Responded                   NaN         NaN  \n",
      "63      5   Not Responded                   NaN         NaN  \n",
      "65      5   Not Responded                   NaN         NaN  \n",
      "67      5   Not Responded                   NaN         NaN  \n",
      "69      5   Not Responded                   NaN         NaN  \n",
      "71      5   Not Responded                   NaN         NaN  \n",
      "73      5   Not Responded                   NaN         NaN  \n",
      "75      5   Not Responded                   NaN         NaN  \n",
      "77      5   Not Responded                   NaN         NaN  \n",
      "79      4   Not Responded                   NaN         NaN  \n",
      "81      5   Not Responded                   NaN         NaN  \n",
      "83      5   Not Responded                   NaN         NaN  \n",
      "85      5   Not Responded                   NaN         NaN  \n",
      "87      5   Not Responded                   NaN         NaN  \n",
      "89      5   Not Responded                   NaN         NaN  \n",
      "91      5   Not Responded                   NaN         NaN  \n",
      "93      5   Not Responded                   NaN         NaN  \n",
      "95      5   Not Responded                   NaN         NaN  \n",
      "97      5   Not Responded                   NaN         NaN  \n",
      "99      5   Not Responded                   NaN         NaN  \n"
     ]
    }
   ],
   "source": [
    "# Filter feedback with positive sentiment\n",
    "print(\"\\nFeedback with positive sentiment:\")\n",
    "positive_feedback = df[df['sentiment'] == 'Positive']\n",
    "print(positive_feedback)"
   ]
  },
  {
   "cell_type": "code",
   "execution_count": 51,
   "metadata": {},
   "outputs": [
    {
     "name": "stdout",
     "output_type": "stream",
     "text": [
      "\n",
      "After filling missing values in improvement_suggested:\n",
      "   feedback_id  customer_id  category_id     feedback_date  \\\n",
      "0            1            1            1           00:00.0   \n",
      "1            2            2            2           00:00.0   \n",
      "2            3            3            3           00:00.0   \n",
      "3            4            4            4  04/09/2024 00:00   \n",
      "4            5            5            5           00:00.0   \n",
      "\n",
      "                                feedback_description sentiment        source  \\\n",
      "0                               I love this product!  Positive       Twitter   \n",
      "1    I had a terrible experience with their service.  Negative          Yelp   \n",
      "2             This product exceeded my expectations!  Positive        Amazon   \n",
      "3  I am very disappointed with the quality of thi...  Negative  Online Store   \n",
      "4    Amazing experience! Would definitely recommend!  Positive   TripAdvisor   \n",
      "\n",
      "  rating response_status improvement_suggested Unnamed: 10  \n",
      "0      5       Responded                  None         NaN  \n",
      "1      2       Responded       Improve service         NaN  \n",
      "2      5   Not Responded                  None         NaN  \n",
      "3      1       Responded         Quality check         NaN  \n",
      "4      5   Not Responded                  None         NaN  \n"
     ]
    }
   ],
   "source": [
    "# Fill missing values in the 'improvement_suggested' column (if any) with 'None'\n",
    "df['improvement_suggested'].fillna('None', inplace=True)\n",
    "print(\"\\nAfter filling missing values in improvement_suggested:\")\n",
    "print(df.head())"
   ]
  },
  {
   "cell_type": "code",
   "execution_count": 54,
   "metadata": {},
   "outputs": [],
   "source": [
    "df['rating'] = pd.to_numeric(df['rating'], errors='coerce')"
   ]
  },
  {
   "cell_type": "code",
   "execution_count": 55,
   "metadata": {},
   "outputs": [
    {
     "name": "stdout",
     "output_type": "stream",
     "text": [
      "\n",
      "Aggregated statistics (mean rating and feedback count) by sentiment:\n",
      "                             mean_rating  feedback_count\n",
      "sentiment                                               \n",
      " not worth the price.                NaN               1\n",
      " the product does not work.          NaN               1\n",
      " the staff was rude.                 NaN               1\n",
      " will not return.                    NaN               1\n",
      "Negative                        1.444444              45\n",
      "Neutral                         3.000000               1\n",
      "Positive                        4.880000              50\n"
     ]
    }
   ],
   "source": [
    "# Aggregating multiple statistics (mean rating and feedback count) per sentiment\n",
    "print(\"\\nAggregated statistics (mean rating and feedback count) by sentiment:\")\n",
    "aggregated_stats = df.groupby('sentiment').agg(\n",
    "    mean_rating=('rating', 'mean'),\n",
    "    feedback_count=('feedback_description', 'count')\n",
    ")\n",
    "print(aggregated_stats)"
   ]
  },
  {
   "cell_type": "code",
   "execution_count": 64,
   "metadata": {},
   "outputs": [
    {
     "name": "stdout",
     "output_type": "stream",
     "text": [
      "\n",
      "Categories with more than 1 feedback:\n",
      "sentiment\n",
      "Negative    45\n",
      "Positive    50\n",
      "Name: feedback_description, dtype: int64\n"
     ]
    }
   ],
   "source": [
    "# Filter categories with more than 1 feedback \n",
    "print(\"\\nCategories with more than 1 feedback:\")\n",
    "multiple_feedback_categories = feedback_count[feedback_count > 1]\n",
    "print(multiple_feedback_categories)"
   ]
  }
 ],
 "metadata": {
  "kernelspec": {
   "display_name": "Python 3",
   "language": "python",
   "name": "python3"
  },
  "language_info": {
   "codemirror_mode": {
    "name": "ipython",
    "version": 3
   },
   "file_extension": ".py",
   "mimetype": "text/x-python",
   "name": "python",
   "nbconvert_exporter": "python",
   "pygments_lexer": "ipython3",
   "version": "3.13.0"
  }
 },
 "nbformat": 4,
 "nbformat_minor": 2
}
